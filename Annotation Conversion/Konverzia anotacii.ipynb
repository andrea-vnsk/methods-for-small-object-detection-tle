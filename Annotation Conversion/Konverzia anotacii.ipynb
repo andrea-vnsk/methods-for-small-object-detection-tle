{
 "cells": [
  {
   "cell_type": "markdown",
   "id": "ae50bbbd-889c-4d09-b9fb-2487f2e5fa7a",
   "metadata": {},
   "source": [
    "# **Konverzia anotácií YOLO na Pascal VOC formát**"
   ]
  },
  {
   "cell_type": "markdown",
   "id": "12111581-f509-48b9-bc9e-566d291a441e",
   "metadata": {},
   "source": [
    "Postup je z tohto <a href=\"https://github.com/hai-h-nguyen/Yolo2Pascal-annotation-conversion\"> GitHub repozitára</a>"
   ]
  },
  {
   "cell_type": "code",
   "execution_count": null,
   "id": "0b7a23a0-aa3e-4ff3-ac97-b062773cd04c",
   "metadata": {},
   "outputs": [],
   "source": [
    "!git clone https://github.com/hai-h-nguyen/Yolo2Pascal-annotation-conversion.git\n",
    "import os\n",
    "os.chdir(\"Yolo2Pascal-annotation-conversion\")"
   ]
  },
  {
   "cell_type": "code",
   "execution_count": null,
   "id": "d8353d2c-fdd1-4442-9908-5c72ea678f2e",
   "metadata": {},
   "outputs": [],
   "source": [
    "!pip install PyQt5"
   ]
  },
  {
   "cell_type": "code",
   "execution_count": null,
   "id": "d84cec48-1aef-4286-b16b-0a293eb7ff65",
   "metadata": {},
   "outputs": [],
   "source": [
    "!python3 yolo2pascal/yolo2voc.py ../dataset/train/labels ../dataset/train/XML\n",
    "!python3 yolo2pascal/yolo2voc.py ../dataset/val/labels ../dataset/val/_XML\n",
    "!python3 yolo2pascal/yolo2voc.py ../dataset/test/labels ../dataset/test/XML"
   ]
  },
  {
   "cell_type": "markdown",
   "id": "a6aa5090-d618-428e-abae-8a767ef3edbb",
   "metadata": {},
   "source": [
    "# **Konverzia anotácií YOLO na COCO formát**"
   ]
  },
  {
   "cell_type": "markdown",
   "id": "56346d93-69c8-4c2e-8101-5b9d461732ba",
   "metadata": {},
   "source": [
    "Postup je z tohto <a href=\"https://github.com/Taeyoung96/Yolo-to-COCO-format-converter\"> GitHub repozitára</a>"
   ]
  },
  {
   "cell_type": "code",
   "execution_count": null,
   "id": "20f342dc-f99e-47b8-bc98-340dc44c914e",
   "metadata": {},
   "outputs": [],
   "source": [
    "!git clone https://github.com/Taeyoung96/Yolo-to-COCO-format-converter.git\n",
    "import os\n",
    "os.chdir(\"Yolo-to-COCO-format-converter\")"
   ]
  },
  {
   "cell_type": "code",
   "execution_count": null,
   "id": "7b1b5aad-c3bf-4fa9-9813-c75551c98f14",
   "metadata": {},
   "outputs": [],
   "source": [
    "!python path_replacer.py --path_image_folder ../dataset/train/images --path_txt train.txt\n",
    "!python path_replacer.py --path_image_folder ../dataset/val/images --path_txt val.txt"
   ]
  },
  {
   "cell_type": "code",
   "execution_count": null,
   "id": "cb98469c-60e9-44bc-902b-12a4b4ec68c9",
   "metadata": {},
   "outputs": [],
   "source": [
    "!python main.py --path test.txt --output ../dataset/train/images/_annotations.coco\n",
    "!python main.py --path val.txt --output ../dataset/val/images/_annotations.coco.json"
   ]
  }
 ],
 "metadata": {
  "kernelspec": {
   "display_name": "Python 3 (ipykernel)",
   "language": "python",
   "name": "python3"
  },
  "language_info": {
   "codemirror_mode": {
    "name": "ipython",
    "version": 3
   },
   "file_extension": ".py",
   "mimetype": "text/x-python",
   "name": "python",
   "nbconvert_exporter": "python",
   "pygments_lexer": "ipython3",
   "version": "3.10.6"
  }
 },
 "nbformat": 4,
 "nbformat_minor": 5
}
