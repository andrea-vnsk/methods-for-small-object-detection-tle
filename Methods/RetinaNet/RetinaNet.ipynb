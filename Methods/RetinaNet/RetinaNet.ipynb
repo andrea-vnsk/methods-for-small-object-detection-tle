{
 "cells": [
  {
   "cell_type": "markdown",
   "id": "299202be-fbf7-4e8a-91db-0d05e34b9672",
   "metadata": {},
   "source": [
    "# **RetinaNet**"
   ]
  },
  {
   "cell_type": "markdown",
   "id": "d711d971-ab48-4d3c-9a68-5d4a1b21b99e",
   "metadata": {},
   "source": [
    "Postup vytvorenia modelu RetinaNet v tomto notebooku je založený na <a href=\"https://github.com/benihime91/pytorch_retinanet/blob/master/demo.ipynb\">originálnom notebooku.</a>"
   ]
  },
  {
   "cell_type": "markdown",
   "id": "d8257e74-8ee7-4f1a-8d28-c56806edd5bd",
   "metadata": {},
   "source": [
    "### Príprava prostredia"
   ]
  },
  {
   "cell_type": "code",
   "execution_count": null,
   "id": "b3d71dec-f9d9-4471-b669-a0fd75a32f2d",
   "metadata": {},
   "outputs": [],
   "source": [
    "!pip install -Uqq pytorch-lightning==1.0.0 omegaconf\n",
    "!pip install -Uqq git+https://github.com/albumentations-team/albumentations\n",
    "!pip uninstall torchtext\n",
    "!pip install pycocotools\n",
    "!git clone https://github.com/benihime91/pytorch_retinanet.git"
   ]
  },
  {
   "cell_type": "code",
   "execution_count": null,
   "id": "995db9df-88a5-42bb-bb69-147e808f9579",
   "metadata": {},
   "outputs": [],
   "source": [
    "import warnings\n",
    "import os\n",
    "import sys\n",
    "\n",
    "warnings.filterwarnings('ignore')\n",
    "sys.path.append(\"pytorch_retinanet/\")\n",
    "%reload_ext autoreload\n",
    "%autoreload 2\n",
    "%matplotlib inline\n",
    "%cd pytorch_retinanet"
   ]
  },
  {
   "cell_type": "markdown",
   "id": "d9bcf115-470f-460b-80b6-6b85b391ca51",
   "metadata": {},
   "source": [
    "### Príprava dát"
   ]
  },
  {
   "cell_type": "code",
   "execution_count": null,
   "id": "1e059aa8-cc88-476a-adb6-e57c4c6b969d",
   "metadata": {},
   "outputs": [],
   "source": [
    "# Cesty k obrázkom\n",
    "TRAIN_IMAGE_PATH = \"../../dataset/train/XML\"   # trénovacia množina\n",
    "VALID_IMAGE_PATH = \"../../dataset/val/XML_\"    # validačná množina\n",
    "TEST_IMAGE_PATH  = \"../../dataset/TP_test/XML\" # testovacia množinaň\n",
    "# Cesty k anotáciám \n",
    "TRAIN_ANNOT_PATH = \"../../dataset/train/XML\"   # trénovacia množina\n",
    "VALID_ANNOT_PATH = \"../../dataset/val/XML_\"    # validačná množina\n",
    "TEST_ANNOT_PATH  = \"../../dataset/TP_test/XML\" # testovacia množina"
   ]
  },
  {
   "cell_type": "code",
   "execution_count": null,
   "id": "e33eb397-8429-491f-940f-57206f362220",
   "metadata": {},
   "outputs": [],
   "source": [
    "import pandas as pd\n",
    "from PIL import Image\n",
    "import cv2\n",
    "import numpy as np\n",
    "\n",
    "from utils.pascal import convert_annotations_to_df\n",
    "\n",
    "pd.set_option(\"display.max_colwidth\", None)\n",
    "np.random.seed(123)"
   ]
  },
  {
   "cell_type": "markdown",
   "id": "a217f4a3-d1e7-4ca0-bf16-79c2a6fa57e3",
   "metadata": {},
   "source": [
    "**Vytvorenie CSV súborov z XML anotácií**"
   ]
  },
  {
   "cell_type": "code",
   "execution_count": null,
   "id": "3d6463f2-babd-4386-994b-7a020d4fc8da",
   "metadata": {},
   "outputs": [],
   "source": [
    "train_df = convert_annotations_to_df(TRAIN_ANNOT_PATH, TRAIN_IMAGE_PATH, image_set=\"train\")\n",
    "valid_df = convert_annotations_to_df(VALID_ANNOT_PATH, VALID_IMAGE_PATH, image_set=\"test\")\n",
    "test_df  = convert_annotations_to_df(TEST_ANNOT_PATH, TEST_IMAGE_PATH, image_set=\"test\")\n",
    "\n",
    "def remove_invalid_annots(df):\n",
    "    \"\"\"\n",
    "    Removes annotations where xmax, ymax < xmin,ymin\n",
    "    from the given dataframe\n",
    "    \"\"\"\n",
    "    df = df[df.xmax > df.xmin]\n",
    "    df = df[df.ymax > df.ymin]\n",
    "    df.reset_index(inplace=True, drop=True)\n",
    "    return df\n",
    "\n",
    "# Odstránenie invalidných anotácií\n",
    "train_df = remove_invalid_annots(train_df)\n",
    "valid_df = remove_invalid_annots(valid_df)\n",
    "test_df  = remove_invalid_annots(test_df)"
   ]
  },
  {
   "cell_type": "code",
   "execution_count": null,
   "id": "ca6c9d09-5fc4-4ccd-8455-781b87438d91",
   "metadata": {},
   "outputs": [],
   "source": [
    "# Cesta pre uloženie CSV súborov\n",
    "TRAIN_CSV = \"../train_data.csv\"\n",
    "VALID_CSV = \"../valid_data.csv\"\n",
    "TEST_CSV  = \"../test_data.csv\"\n",
    "\n",
    "# Načítanie CSV súborov\n",
    "train_df.to_csv(TRAIN_CSV, index=False)\n",
    "valid_df.to_csv(VALID_CSV, index=False)\n",
    "test_df.to_csv(TEST_CSV, index=False)\n",
    "\n",
    "train_df = pd.read_csv(TRAIN_CSV)\n",
    "valid_df = pd.read_csv(VALID_CSV)\n",
    "test_df  = pd.read_csv(TEST_CSV)"
   ]
  },
  {
   "cell_type": "markdown",
   "id": "682f6253-0d63-4d8d-851a-ca94e0fcf885",
   "metadata": {},
   "source": [
    "**Vytvorenie Label Map pre použitie pri vizuálizácií**"
   ]
  },
  {
   "cell_type": "code",
   "execution_count": null,
   "id": "c399cf67-b631-4f27-b6b9-2abb41367d96",
   "metadata": {},
   "outputs": [],
   "source": [
    "from utils.pascal import generate_pascal_category_names\n",
    "\n",
    "LABEL_MAP = generate_pascal_category_names(train_df)\n",
    "LABEL_MAP"
   ]
  },
  {
   "cell_type": "markdown",
   "id": "06c1b83e-b20e-4277-af43-e064c0cb1e04",
   "metadata": {},
   "source": [
    "**Nastavenie konfigurácií hyperparametrov pre trénovanie**"
   ]
  },
  {
   "cell_type": "code",
   "execution_count": null,
   "id": "47c4df51-e602-4043-91f2-48db24623793",
   "metadata": {},
   "outputs": [],
   "source": [
    "# Nastavenie počtu epoch pre trénvanie\n",
    "NUM_TRAIN_EPOCHS = 50\n",
    "\n",
    "# Nastavenie hyperparametrov\n",
    "from omegaconf import OmegaConf\n",
    "\n",
    "# Načítanie hparams.ymal súboru použitím Omegaconf\n",
    "hparams = OmegaConf.load(\"hparams.yaml\")\n",
    "\n",
    "hparams.dataset.kind        = \"csv\"\n",
    "hparams.dataset.trn_paths   = TRAIN_CSV\n",
    "hparams.dataset.valid_paths = VALID_CSV\n",
    "hparams.dataset.test_paths  = TEST_CSV\n",
    "\n",
    "hparams.dataloader.train_bs = 4\n",
    "hparams.dataloader.valid_bs = 16\n",
    "hparams.dataloader.test_bs  = 16\n",
    "\n",
    "hparams.model.num_classes   = len(LABEL_MAP) - 1\n",
    "hparams.model.backbone_kind = \"resnet101\"\n",
    "hparams.model.min_size      = 800\n",
    "hparams.model.max_size      = 1333\n",
    "hparams.model.pretrained    = True \n",
    "\n",
    "hparams.transforms  =  [\n",
    "    {\"class_name\": \"albumentations.HorizontalFlip\", \"params\": {\"p\": 0.5} },\n",
    "    {\"class_name\": \"albumentations.RandomBrightnessContrast\", \"params\": {\"p\": 0.5} },\n",
    "]\n",
    "\n",
    "hparams.optimizer = {\n",
    "    \"class_name\": \"torch.optim.SGD\",\n",
    "    \"params\"    : {\"lr\": 0.001, \"weight_decay\": 0.0005, \"momentum\":0.9},\n",
    "    }\n",
    "\n",
    "hparams.scheduler = {\n",
    "    \"class_name\" : \"torch.optim.lr_scheduler.CosineAnnealingLR\",\n",
    "    \"params\"     : {\"T_max\": NUM_TRAIN_EPOCHS},\n",
    "    \"monitor\"    : None,\n",
    "    \"interval\"   : \"epoch\",\n",
    "    \"frequency\"  : 1\n",
    "    }\n",
    "\n",
    "print(OmegaConf.to_yaml(hparams))"
   ]
  },
  {
   "cell_type": "code",
   "execution_count": null,
   "id": "decbf751-a762-46ce-9094-87f0c19a5d11",
   "metadata": {},
   "outputs": [],
   "source": [
    "import pytorch_lightning as pl\n",
    "from pytorch_lightning import Trainer\n",
    "from pytorch_lightning.callbacks import LearningRateMonitor, EarlyStopping\n",
    "\n",
    "from model import RetinaNetModel\n",
    "\n",
    "pl.seed_everything(123)"
   ]
  },
  {
   "cell_type": "markdown",
   "id": "c280a71c-3455-4d47-b430-a5fb12474674",
   "metadata": {},
   "source": [
    "### Trénovanie modelu"
   ]
  },
  {
   "cell_type": "code",
   "execution_count": null,
   "id": "cf79387f-45ae-4f41-b8c5-6c71a194d7ac",
   "metadata": {},
   "outputs": [],
   "source": [
    "lr_logger  = LearningRateMonitor(logging_interval=\"step\")\n",
    "\n",
    "# technika predčasného ukončenia trénovania\n",
    "early_stopping = EarlyStopping(\n",
    "    monitor='val_loss',   # monitorovaná metrika\n",
    "    patience=15,          # počet epoch bez zlepšenia metriky, predtým ako sa zastaví trénovanie\n",
    "    mode='min',           # 'min' pre minimalizáciu metriky, 'max' pre maximalizáciu\n",
    "    min_delta=0.0001      # minimálna zmena, aby sa kvalifikovalo ako zlepšenie\n",
    ")\n",
    "\n",
    "trainer    = Trainer(precision=16,\n",
    "                     accelerator='gpu',\n",
    "                     devices=1, \n",
    "                     callbacks=[lr_logger,  early_stopping],\n",
    "                     max_epochs=NUM_TRAIN_EPOCHS)\n",
    "\n",
    "litModel = RetinaNetModel(conf=hparams)\n",
    "trainer.fit(litModel)"
   ]
  },
  {
   "cell_type": "markdown",
   "id": "49111718-5b33-48b7-8439-bb51be5d6c44",
   "metadata": {},
   "source": [
    "### Testovanie modelu použitím COCO metrík"
   ]
  },
  {
   "cell_type": "code",
   "execution_count": null,
   "id": "1eadf127-25df-49c2-bfcb-b77685469f7b",
   "metadata": {},
   "outputs": [],
   "source": [
    "trainer.test(litModel)"
   ]
  },
  {
   "cell_type": "markdown",
   "id": "5bfab53e-1976-4b86-9e02-83ca2c721aa9",
   "metadata": {},
   "source": [
    "### Exportovanie váh natrénovaného modelu"
   ]
  },
  {
   "cell_type": "code",
   "execution_count": null,
   "id": "f093e078-e8e4-4961-b0e5-2674da00b103",
   "metadata": {},
   "outputs": [],
   "source": [
    "import torch\n",
    "\n",
    "PATH = f\"trained_weights.pth\"\n",
    "torch.save(litModel.net.state_dict(), PATH)"
   ]
  },
  {
   "cell_type": "markdown",
   "id": "8b7f7273-6c8f-4adf-ac1b-db3996d43a46",
   "metadata": {},
   "source": [
    "### Načítanie modelu"
   ]
  },
  {
   "cell_type": "code",
   "execution_count": null,
   "id": "5f80a20c-f5b3-450c-a2b5-fa859dc0e074",
   "metadata": {},
   "outputs": [],
   "source": [
    "import logging\n",
    "import torch\n",
    "\n",
    "from retinanet import Retinanet\n",
    "\n",
    "logger = logging.getLogger(\"lightning\")\n",
    "PATH = \"trained_weights.pth\" # Cesta ku váham modelu\n",
    "state_dict = torch.load(PATH)\n",
    "model_args = hparams.model\n",
    "\n",
    "MODEL = Retinanet(**model_args, logger=logger)\n",
    "MODEL.load_state_dict(state_dict)\n",
    "MODEL.eval()\n",
    "MODEL.to(\"cuda:0\");"
   ]
  },
  {
   "cell_type": "markdown",
   "id": "b5aee4e8-ba78-4453-81c3-49dffedbd44d",
   "metadata": {},
   "source": [
    "### Vizualizácia predikcií na testovacích dátach"
   ]
  },
  {
   "cell_type": "markdown",
   "id": "1cbc25ed-a824-4da2-bdc2-38c0b238dbbf",
   "metadata": {},
   "source": [
    "**Definovanie fukncií pre vizualizáciu**"
   ]
  },
  {
   "cell_type": "code",
   "execution_count": null,
   "id": "9174fa44-9600-4706-8f7f-7ce78f3b2b9d",
   "metadata": {},
   "outputs": [],
   "source": [
    "from albumentations.pytorch import ToTensorV2\n",
    "from PIL import Image\n",
    "from torchvision.ops import nms\n",
    "\n",
    "import os\n",
    "import numpy as np\n",
    "import cv2\n",
    "import albumentations as A\n",
    "import matplotlib.pyplot as plt\n",
    "\n",
    "@torch.no_grad()\n",
    "def get_preds(path):\n",
    "    image = cv2.cvtColor(cv2.imread(path), cv2.COLOR_BGR2RGB)\n",
    "\n",
    "    INFER_TRANSFORMS = A.Compose([\n",
    "        A.ToFloat(max_value=255.0, always_apply=True),\n",
    "        ToTensorV2(always_apply=True)\n",
    "        ])\n",
    "\n",
    "    TENSOR_IMAGE = INFER_TRANSFORMS(image=image)[\"image\"].to(\"cuda:0\")\n",
    "    PREDICTIONS  = MODEL.predict([TENSOR_IMAGE])\n",
    "    return PREDICTIONS[0]\n",
    "\n",
    "def detect(image_path, threshold=0.5, nms_threshold=0.01):\n",
    "    \n",
    "    preds = get_preds(image_path)\n",
    "\n",
    "    mask = preds['scores'] > threshold\n",
    "    boxes = preds['boxes'][mask]\n",
    "    labels = preds['labels'][mask]\n",
    "    scores = preds['scores'][mask]\n",
    " \n",
    "    if len(scores) > 0:\n",
    "        keep_indices = nms(boxes, scores, nms_threshold)\n",
    "\n",
    "        boxes = boxes[keep_indices]\n",
    "        labels = labels[keep_indices]\n",
    "        scores = scores[keep_indices]\n",
    "\n",
    "    return boxes.cpu().numpy(), labels.cpu().numpy(), scores.cpu().numpy()\n",
    "\n",
    "def draw_on_image(image_path, boxes, scores, classes, label_map=LABEL_MAP):\n",
    "    image = Image.open(image_path)\n",
    "    image = np.array(image) / 255.\n",
    "    image = viz_bbs(image, boxes, scores=scores, classes=classes, label_map=LABEL_MAP)\n",
    "    return image"
   ]
  },
  {
   "cell_type": "markdown",
   "id": "d2762326-a4fa-427e-aa3f-be9c769aa644",
   "metadata": {},
   "source": [
    "**Vizualizácia predikcií**\n",
    "\n",
    "Vykonanie vizualizácie na všetky obrázky v testovacej množine a následné uloženie do súborov:\n",
    "\n",
    "*inferenced*:\n",
    ">TP - súbor pre obrázky s detegovanými objektmi\n",
    " \n",
    ">TN - súbor pre obrázky bez detegovaných objektov"
   ]
  },
  {
   "cell_type": "code",
   "execution_count": null,
   "id": "68f0facd-8813-4bc8-bb82-3355331d782c",
   "metadata": {},
   "outputs": [],
   "source": [
    "input_folder = TEST_IMAGE_PATH\n",
    "\n",
    "CONFIDENCE_THRESHOLD = 0.6 # minimálna pravdepodobnosť, s akou algoritmus správne deteguje objekt\n",
    "\n",
    "# Definícia výstupného súburu, kde sa uložia otestované obrázky\n",
    "output_folder = \"inferenced\"\n",
    "\n",
    "tp_folder = os.path.join(output_folder, \"TP\") # súbor tp_folder pre obrázky s detegovanými objektmi\n",
    "tn_folder = os.path.join(output_folder, \"TN\") # súbor tn_folder pre obrázky bez detegovaných objektov\n",
    "\n",
    "# Vytvorenie súborov\n",
    "os.makedirs(output_folder, exist_ok=True)\n",
    "os.makedirs(tp_folder, exist_ok=True)\n",
    "os.makedirs(tn_folder, exist_ok=True)\n",
    "\n",
    "\n",
    "for image_name in os.listdir(input_folder):\n",
    "    if image_name.lower().endswith('.jpg'):\n",
    "       \n",
    "        image_path = os.path.join(input_folder, image_name)    \n",
    "        boxes, labels, scores = detect(image_path, threshold=CONFIDENCE_THRESHOLD)\n",
    "        original_image = Image.open(image_path)\n",
    "    \n",
    "        if len(boxes) > 0:\n",
    "            annotated_image = draw_on_image(image_path, boxes, scores, labels)\n",
    "            \n",
    "            output_path = os.path.join(tp_folder, image_name)\n",
    "            annotated_image.save(output_path)\n",
    "            print(f\"Saved {output_path}\")\n",
    "        else:\n",
    "            output_path = os.path.join(tn_folder, image_name)\n",
    "            original_image.save(output_path)\n",
    "            print(f\"Saved {output_path}\")\n",
    "    else:\n",
    "        print(f\"Ignored {image_name}: not a .jpg file\")\n"
   ]
  }
 ],
 "metadata": {
  "kernelspec": {
   "display_name": "Python 3 (ipykernel)",
   "language": "python",
   "name": "python3"
  },
  "language_info": {
   "codemirror_mode": {
    "name": "ipython",
    "version": 3
   },
   "file_extension": ".py",
   "mimetype": "text/x-python",
   "name": "python",
   "nbconvert_exporter": "python",
   "pygments_lexer": "ipython3",
   "version": "3.10.6"
  }
 },
 "nbformat": 4,
 "nbformat_minor": 5
}
