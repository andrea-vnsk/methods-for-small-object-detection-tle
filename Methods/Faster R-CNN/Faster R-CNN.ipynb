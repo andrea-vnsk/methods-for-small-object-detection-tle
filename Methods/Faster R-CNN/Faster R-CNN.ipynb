{
 "cells": [
  {
   "cell_type": "markdown",
   "id": "2fd80bb6-5336-45b2-8adc-547438a5fdc5",
   "metadata": {},
   "source": [
    "# **Faster R-CNN**"
   ]
  },
  {
   "cell_type": "markdown",
   "id": "bbe7a84d-159f-4085-9da1-fba657645625",
   "metadata": {},
   "source": [
    "Postup vytvorenia modelu Faster R-CNN v tomto notebooku je založený na <a href=\"https://colab.research.google.com/drive/1ZuGY8s72SFlyiRKMfm_xKPwd_G4L-Kbd?usp=sharing#scrollTo=3B7uylHoP4FW\">originálnom notebooku.</a>"
   ]
  },
  {
   "cell_type": "markdown",
   "id": "3742092e-a89e-4b77-a0bd-49f9baa3a780",
   "metadata": {},
   "source": [
    "### Príprava prostredia\n",
    "Inštalácia knižnice Detectron2 a import potrebných knižníc"
   ]
  },
  {
   "cell_type": "code",
   "execution_count": null,
   "id": "c52073ee-db12-431b-b17c-c0e29bbd7104",
   "metadata": {},
   "outputs": [],
   "source": [
    "!python -m pip install 'git+https://github.com/facebookresearch/detectron2.git'"
   ]
  },
  {
   "cell_type": "code",
   "execution_count": null,
   "id": "d4342415-c215-49b8-8d09-ea5e78f2cdc8",
   "metadata": {},
   "outputs": [],
   "source": [
    "import detectron2\n",
    "from detectron2.utils.logger import setup_logger\n",
    "setup_logger()\n",
    "from detectron2 import model_zoo\n",
    "from detectron2.engine import DefaultTrainer\n",
    "from detectron2.engine import DefaultPredictor\n",
    "from detectron2.config import get_cfg\n",
    "from detectron2.utils.visualizer import Visualizer\n",
    "from detectron2.structures import BoxMode\n",
    "from detectron2.data import DatasetCatalog, MetadataCatalog\n",
    "from detectron2.evaluation import COCOEvaluator, inference_on_dataset, LVISEvaluator\n",
    "from detectron2.data import build_detection_test_loader\n",
    "from detectron2.utils.visualizer import ColorMode\n",
    "\n",
    "import torch, torchvision\n",
    "import torchvision.transforms as transforms\n",
    "\n",
    "import matplotlib.pyplot as plt\n",
    "from matplotlib.pyplot import imshow\n",
    "\n",
    "from PIL import Image\n",
    "import cv2\n",
    "import numpy as np\n",
    "import IPython\n",
    "import json\n",
    "import os\n",
    "import json\n",
    "import csv\n",
    "import time\n",
    "#import random\n",
    "from pathlib import Path"
   ]
  },
  {
   "cell_type": "markdown",
   "id": "9dcdf5b7-5fa2-4e8b-91b5-15a4d5937da7",
   "metadata": {},
   "source": [
    "### Príprava dát\n",
    "Konverzia YOLO anotácií na COCO formát"
   ]
  },
  {
   "cell_type": "code",
   "execution_count": null,
   "id": "bc5ba2d9-39db-4466-909f-10163a31a1f2",
   "metadata": {},
   "outputs": [],
   "source": [
    "def create_data_pairs(input_path, detectron_img_path, detectron_annot_path, dir_type = 'train'):\n",
    "\n",
    "    img_paths = Path(input_path + dir_type + '/images/').glob('*.jpg')\n",
    "\n",
    "    pairs = []\n",
    "    for img_path in img_paths:\n",
    "\n",
    "        file_name_tmp = str(img_path).split('/')[-1].split('.')\n",
    "        file_name_tmp.pop(-1)\n",
    "        file_name = '.'.join((file_name_tmp))\n",
    "\n",
    "        label_path = Path(input_path + dir_type + '/labels/' + file_name + '.txt')\n",
    "\n",
    "        if label_path.is_file():\n",
    "\n",
    "            line_img = detectron_img_path + dir_type+'/images/'+ file_name + '.jpg'\n",
    "            line_annot = detectron_annot_path+dir_type+'/labels/' + file_name + '.txt'\n",
    "            pairs.append([line_img, line_annot])\n",
    "\n",
    "    return pairs"
   ]
  },
  {
   "cell_type": "code",
   "execution_count": null,
   "id": "17d9c8f4-0038-444c-b633-71336fb1c5ea",
   "metadata": {},
   "outputs": [],
   "source": [
    "input_path = '../dataset/'\n",
    "detectron_img_path = '../dataset/' \n",
    "detectron_annot_path = '../dataset/'"
   ]
  },
  {
   "cell_type": "code",
   "execution_count": null,
   "id": "e3e4a5fb-1edc-4a62-b094-8febed69a3c4",
   "metadata": {},
   "outputs": [],
   "source": [
    "train = create_data_pairs(input_path, detectron_img_path, detectron_annot_path, 'train')\n",
    "val = create_data_pairs(input_path, detectron_img_path, detectron_annot_path, 'val')"
   ]
  },
  {
   "cell_type": "code",
   "execution_count": null,
   "id": "15169b78-fa6b-4985-aa7e-aad8f3eebccd",
   "metadata": {},
   "outputs": [],
   "source": [
    "def create_coco_format(data_pairs):\n",
    "\n",
    "    data_list = []\n",
    "\n",
    "    for i, path in enumerate(data_pairs):\n",
    "\n",
    "        filename = path[0]\n",
    "\n",
    "        img_h, img_w = cv2.imread(filename).shape[:2]\n",
    "\n",
    "        img_item = {}\n",
    "        img_item['file_name'] = filename\n",
    "        img_item['image_id'] = i\n",
    "        img_item['height']= img_h\n",
    "        img_item['width']= img_w\n",
    "\n",
    "        print(str(i), filename)\n",
    "\n",
    "\n",
    "        annotations = []\n",
    "        with open(path[1]) as annot_file:\n",
    "            lines = annot_file.readlines()\n",
    "            for line in lines:\n",
    "                if line[-1]==\"\\n\":\n",
    "                    box = line[:-1].split(' ')\n",
    "                else:\n",
    "                    box = line.split(' ')\n",
    "\n",
    "                class_id = box[0]\n",
    "                x_c = float(box[1])\n",
    "                y_c = float(box[2])\n",
    "                width = float(box[3])\n",
    "                height = float(box[4])\n",
    "\n",
    "                x1 = (x_c - (width/2)) * img_w\n",
    "                y1 = (y_c - (height/2)) * img_h\n",
    "                x2 = (x_c + (width/2)) * img_w\n",
    "                y2 = (y_c + (height/2)) * img_h\n",
    "\n",
    "                annotation = {\n",
    "                    \"bbox\": list(map(float,[x1, y1, x2, y2])),\n",
    "                    \"bbox_mode\": BoxMode.XYXY_ABS,\n",
    "                    \"category_id\": int(class_id),\n",
    "                    \"iscrowd\": 0\n",
    "                }\n",
    "                annotations.append(annotation)\n",
    "            img_item[\"annotations\"] = annotations\n",
    "        data_list.append(img_item)\n",
    "    return data_list"
   ]
  },
  {
   "cell_type": "code",
   "execution_count": null,
   "id": "e7284365-db2e-4343-bcee-6873f58947d9",
   "metadata": {},
   "outputs": [],
   "source": [
    "train_list = create_coco_format(train)\n",
    "val_list = create_coco_format(val)"
   ]
  },
  {
   "cell_type": "markdown",
   "id": "da2db6fe-9569-4c33-b7d1-4370369fc88c",
   "metadata": {},
   "source": [
    "Nastavnie metadát"
   ]
  },
  {
   "cell_type": "code",
   "execution_count": null,
   "id": "843f7264-c202-4b6c-8e95-725df6bb82ff",
   "metadata": {},
   "outputs": [],
   "source": [
    "for catalog_name, file_annots in [(\"train\", train_list), (\"val\", val_list)]:\n",
    "    DatasetCatalog.register(catalog_name, lambda file_annots = file_annots: file_annots)\n",
    "    MetadataCatalog.get(catalog_name).set(thing_classes=['TLE'])"
   ]
  },
  {
   "cell_type": "code",
   "execution_count": null,
   "id": "17b54086-267c-46ca-b04d-32e2e81d62ad",
   "metadata": {},
   "outputs": [],
   "source": [
    "metadata = MetadataCatalog.get(\"train\")\n",
    "MetadataCatalog.get(\"val\")"
   ]
  },
  {
   "cell_type": "markdown",
   "id": "6cf9401b-c2cb-432c-b0de-e734bbb9068d",
   "metadata": {},
   "source": [
    "### Trénovanie modelu\n",
    "\n",
    "Nastavenie počtu iterácií a konfigurácie pre tréning"
   ]
  },
  {
   "cell_type": "code",
   "execution_count": null,
   "id": "da2fab90-f7c7-45d0-ae09-4578371c9fc7",
   "metadata": {},
   "outputs": [],
   "source": [
    "batch_size = 8\n",
    "max_iter = (int(len(train_list)/batch_size)) * 100\n",
    "print(max_iter)"
   ]
  },
  {
   "cell_type": "code",
   "execution_count": null,
   "id": "dde86d94-2992-4609-ad01-df6f6643ee44",
   "metadata": {},
   "outputs": [],
   "source": [
    "cfg = get_cfg()\n",
    "cfg.merge_from_file(model_zoo.get_config_file(\"COCO-Detection/faster_rcnn_R_50_FPN_3x.yaml\"))\n",
    "cfg.DATASETS.TRAIN = (\"train\",)\n",
    "cfg.DATALOADER.NUM_WORKERS = 2\n",
    "cfg.MODEL.DEVICE = 'cuda' # cpu\n",
    "cfg.MODEL.WEIGHTS = \"detectron2://COCO-Detection/faster_rcnn_R_50_FPN_3x/137849458/model_final_280758.pkl\"\n",
    "cfg.SOLVER.IMS_PER_BATCH = batch_size\n",
    "cfg.SOLVER.CHECKPOINT_PERIOD = 1000\n",
    "cfg.SOLVER.BASE_LR = 0.001\n",
    "cfg.SOLVER.MAX_ITER = max_iter\n",
    "cfg.MODEL.ROI_HEADS.BATCH_SIZE_PER_IMAGE = 256 # 512\n",
    "cfg.MODEL.ROI_HEADS.NUM_CLASSES = len(MetadataCatalog.get(\"train\").thing_classes)\n",
    "cfg.SOLVER.STEPS = (20500, )\n",
    "\n",
    "os.makedirs(cfg.OUTPUT_DIR, exist_ok=True)\n",
    "trainer = DefaultTrainer(cfg)\n",
    "trainer.resume_or_load(resume=False)\n",
    "\n",
    "import time as t\n",
    "s1 = t.time()\n",
    "try:\n",
    "    trainer.train()\n",
    "except:\n",
    "    None\n",
    "s2 = t.time()\n",
    "print(s2-s1)"
   ]
  },
  {
   "cell_type": "markdown",
   "id": "fc74cec3-6a71-4636-8ece-5b2f87966232",
   "metadata": {},
   "source": [
    "### Načítanie modelu\n",
    "\n",
    "Načítanie modelu, počtu tried pre klasifikáciu a confidence threshold."
   ]
  },
  {
   "cell_type": "code",
   "execution_count": null,
   "id": "a4e57061-9daf-49ba-8fe8-ffb7bcd76d15",
   "metadata": {
    "tags": []
   },
   "outputs": [],
   "source": [
    "cfg = get_cfg()\n",
    "cfg.merge_from_file(model_zoo.get_config_file(\"COCO-Detection/faster_rcnn_R_50_FPN_3x.yaml\"))\n",
    "cfg.MODEL.DEVICE = 'cuda' # cpu\n",
    "cfg.MODEL.ROI_HEADS.NUM_CLASSES = 1\n",
    "cfg.MODEL.WEIGHTS = \"output/model_final.pth\"   # cesta ku natrénovanému modelu\n",
    "cfg.MODEL.ROI_HEADS.SCORE_THRESH_TEST = 0.98   # skóre dôveryhodnosti (confidence threshold)\n",
    "predictor = DefaultPredictor(cfg)"
   ]
  },
  {
   "cell_type": "markdown",
   "id": "54434745-6387-4a0b-9371-d8f4fab35123",
   "metadata": {
    "tags": []
   },
   "source": [
    "### Vizualizácia predikcií\n",
    "\n",
    "Vykonanie vizualizácie na všetky obrázky v testovacej množine a následné uloženie do súborov:\n",
    "\n",
    "*inferenced*:\n",
    ">TP - súbor pre obrázky s detegovanými objektmi\n",
    " \n",
    ">TN - súbor pre obrázky bez detegovaných objektov"
   ]
  },
  {
   "cell_type": "code",
   "execution_count": null,
   "id": "9168dd6c-0dcf-4715-80e0-1d915b5bdc73",
   "metadata": {},
   "outputs": [],
   "source": [
    "import os\n",
    "import cv2\n",
    "from detectron2.engine import DefaultPredictor\n",
    "from detectron2.utils.visualizer import Visualizer, ColorMode\n",
    "from PIL import Image\n",
    "\n",
    "input_folder = \"../dataset/test/images\"\n",
    "output_folder = \"inferenced\"\n",
    "output_folder_tp = os.path.join(output_folder, \"TP\")\n",
    "output_folder_tn = os.path.join(output_folder, \"TN\")\n",
    "\n",
    "os.makedirs(output_folder, exist_ok=True)\n",
    "os.makedirs(output_folder_tp, exist_ok=True)\n",
    "os.makedirs(output_folder_tn, exist_ok=True)\n",
    "\n",
    "predictor = DefaultPredictor(cfg)\n",
    "\n",
    "for filename in os.listdir(input_folder):\n",
    "    if filename.endswith(\".jpg\") or filename.endswith(\".jpeg\") or filename.endswith(\".png\"):\n",
    "       \n",
    "        im = cv2.imread(os.path.join(input_folder, filename))\n",
    "\n",
    "        outputs = predictor(im)\n",
    "\n",
    "        img = im.copy()\n",
    "        annotated_img = img.copy()\n",
    "\n",
    "        boxes = outputs[\"instances\"].to(\"cpu\").pred_boxes.tensor.numpy()\n",
    "        class_ids = outputs[\"instances\"].to(\"cpu\").pred_classes.numpy()\n",
    "\n",
    "        for box, class_id in zip(boxes, class_ids):\n",
    "            box = [int(coord) for coord in box]\n",
    "            class_name = \"TLE\"\n",
    "            annotated_img = cv2.rectangle(np.array(img), (box[0], box[1]), (box[2], box[3]), (0, 255, 0), 2)  # Green\n",
    "     \n",
    "        if len(boxes) > 0:\n",
    "            output_path = os.path.join(output_folder_tp, filename)\n",
    "        else:\n",
    "            output_path = os.path.join(output_folder_tn, filename)\n",
    "\n",
    "        Image.fromarray(annotated_img).save(output_path)"
   ]
  }
 ],
 "metadata": {
  "kernelspec": {
   "display_name": "Python 3 (ipykernel)",
   "language": "python",
   "name": "python3"
  },
  "language_info": {
   "codemirror_mode": {
    "name": "ipython",
    "version": 3
   },
   "file_extension": ".py",
   "mimetype": "text/x-python",
   "name": "python",
   "nbconvert_exporter": "python",
   "pygments_lexer": "ipython3",
   "version": "3.10.6"
  }
 },
 "nbformat": 4,
 "nbformat_minor": 5
}
