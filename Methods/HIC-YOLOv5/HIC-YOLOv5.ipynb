{
 "cells": [
  {
   "cell_type": "markdown",
   "id": "ef23efc8-5f26-4c92-969c-7d16d8a3ed32",
   "metadata": {},
   "source": [
    "# **HIC-YOLOv5**"
   ]
  },
  {
   "cell_type": "markdown",
   "id": "4dc2993b-eddb-4780-8db2-bae6e12a7fcd",
   "metadata": {},
   "source": [
    "Postup vytvorenia modelu HIC-YOLOv5 v tomto notebooku je založený na <a href=\"https://github.com/Jacoo-ai/HIC-Yolov5\">týchto pokynoch.</a>"
   ]
  },
  {
   "cell_type": "markdown",
   "id": "dbf7f868-f1eb-4cfc-b80c-5df4a217c9c7",
   "metadata": {},
   "source": [
    "### Príprava prostredia"
   ]
  },
  {
   "cell_type": "code",
   "execution_count": null,
   "id": "778945f4-7b75-458e-99f6-8151705b4392",
   "metadata": {},
   "outputs": [],
   "source": [
    "!pip -q install -r requirements.txt\n",
    "!pip -q install timm\n",
    "!pip -q install matplotlib --no-cache-dir --force-reinstall"
   ]
  },
  {
   "cell_type": "markdown",
   "id": "96504b2c-3f5d-45ba-a446-b5eacfa5393f",
   "metadata": {},
   "source": [
    "### Trénovanie modelu"
   ]
  },
  {
   "cell_type": "code",
   "execution_count": null,
   "id": "46f7e8fa-3126-4601-b9cc-e9a39fe0c1b9",
   "metadata": {},
   "outputs": [],
   "source": [
    "!python train.py --batch 8 --epoch 100 --weights yolov5s.pt --cfg models/yolov5s-p2-involution-cbam.yaml --hyp data/hyps/hyp.scratch-high.yaml --data TLE.yaml --workers 0"
   ]
  },
  {
   "cell_type": "markdown",
   "id": "b91dfa88-1cd9-4e50-accf-fb4dd6e5666c",
   "metadata": {},
   "source": [
    "### Optimalizácia modelu"
   ]
  },
  {
   "cell_type": "code",
   "execution_count": null,
   "id": "69a2900e-fb70-49ca-a351-724b8a6d6d02",
   "metadata": {},
   "outputs": [],
   "source": [
    "!python train.py --batch 8 --epoch 50 --evolve 30  --weights yolov5s.pt --cfg models/yolov5s-p2-involution-cbam.yaml --data TLE.yaml --workers 4"
   ]
  },
  {
   "cell_type": "code",
   "execution_count": null,
   "id": "fc387a81-434f-4a27-801c-f8b6f98e2178",
   "metadata": {},
   "outputs": [],
   "source": [
    "!python train.py --batch 4 --epoch 50 --weights yolov5s.pt --cfg models/yolov5s-p2-involution-cbam.yaml --hyp runs/evolve/exp/hyp_evolve.yaml --data TLE.yaml --workers 0"
   ]
  },
  {
   "cell_type": "markdown",
   "id": "2b1d2c09-aeda-4cdb-b67e-f2790e51846a",
   "metadata": {},
   "source": [
    "### Test modelu\n",
    "Vykonanie vizualizácie predikcie na všetky obrázky v testovacej množine."
   ]
  },
  {
   "cell_type": "code",
   "execution_count": null,
   "id": "af7e7e55-6dc9-45e6-98d0-349c6941106f",
   "metadata": {},
   "outputs": [],
   "source": [
    "!for file in ../dataset/test/images/*.jpg; do python detect.py --iou 0.4  --conf 0.45 --save-txt --save-conf --name=oldtest_evolved_ep23_iou04_conf045 --source \"$file\" --weights runs/train/evolved_exp/weights/best.pt; done "
   ]
  }
 ],
 "metadata": {
  "kernelspec": {
   "display_name": "Python 3 (ipykernel)",
   "language": "python",
   "name": "python3"
  },
  "language_info": {
   "codemirror_mode": {
    "name": "ipython",
    "version": 3
   },
   "file_extension": ".py",
   "mimetype": "text/x-python",
   "name": "python",
   "nbconvert_exporter": "python",
   "pygments_lexer": "ipython3",
   "version": "3.10.6"
  }
 },
 "nbformat": 4,
 "nbformat_minor": 5
}
